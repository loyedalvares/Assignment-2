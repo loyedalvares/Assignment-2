{
 "cells": [
  {
   "cell_type": "code",
   "execution_count": 1,
   "metadata": {},
   "outputs": [],
   "source": [
    "#Task 1"
   ]
  },
  {
   "cell_type": "code",
   "execution_count": 13,
   "metadata": {},
   "outputs": [
    {
     "name": "stdout",
     "output_type": "stream",
     "text": [
      "Sum on list [1,2,3,4,5] using custom reduce function 15\n"
     ]
    }
   ],
   "source": [
    "# 1.1 Write a Python Program to implement your own myreduce() function which works exactly like Python's built-in function reduce()\n",
    "\n",
    "def myreduce(f, data):\n",
    "\n",
    " # Get first item in sequence and assign to result\n",
    "  result = data[0]\n",
    " # Iiterate over remaining items in sequence and apply reduction function \n",
    "  for item in data[1:]:\n",
    "   result = f(result, item)\n",
    "\n",
    "  return result\n",
    "\n",
    "def sum(a,b): # Myreduce function\n",
    "    return a + b\n",
    "print (\"Sum on list [1,2,3,4,5] using custom reduce function \"   + str(myreduce(sum, [1,2,3,4,5])))"
   ]
  },
  {
   "cell_type": "code",
   "execution_count": 3,
   "metadata": {},
   "outputs": [
    {
     "name": "stdout",
     "output_type": "stream",
     "text": [
      "Filter only positive Integers on list [0,1,2,3,-4,5] using custom filter function[1, 2, 3, 5]\n"
     ]
    }
   ],
   "source": [
    "# 1.2 Write a Python program to implement your own myfilter() function which works exactly like Python's built-in function filter()\n",
    "\n",
    "def myfilter(fn, seq):\n",
    "\n",
    " # Initialize an empty list\n",
    " result = []\n",
    " # Iterate over sequence of items in sequence and apply filter function\n",
    " for item in seq:\n",
    "    if fn(item):\n",
    "        result.append(item)\n",
    "\n",
    " # Return Final output\n",
    " return result\n",
    "# Test myfilter function\n",
    "def ispositive(l):\n",
    "    if (l <= 0): \n",
    "        return False \n",
    "    else: \n",
    "        return True\n",
    "print (\"Filter only positive Integers on list [0,1,2,3,-4,5] using custom filter function\"  + str(myfilter(ispositive, [0,1,2,3,-4,5])))"
   ]
  },
  {
   "cell_type": "code",
   "execution_count": 4,
   "metadata": {},
   "outputs": [],
   "source": [
    "# 2. Implement List comprehensions to produce the following lists.\n",
    "#    Write List comprehensions to produce the following Lists\n",
    "#    ['A', 'C', 'A', 'D', 'G', 'I', ’L’, ‘ D’]\n",
    "#    ['x', 'xx', 'xxx', 'xxxx', 'y', 'yy', 'yyy', 'yyyy', 'z', 'zz', 'zzz', 'zzzz']\n",
    "#    ['x', 'y', 'z', 'xx', 'yy', 'zz', 'xx', 'yy', 'zz', 'xxxx', 'yyyy', 'zzzz']\n",
    "#    [[2], [3], [4], [3], [4], [5], [4], [5], [6]]\n",
    "#    [[2, 3, 4, 5], [3, 4, 5, 6], [4, 5, 6, 7], [5, 6, 7, 8]]\n",
    "#    [(1, 1), (2, 1), (3, 1), (1, 2), (2, 2), (3, 2), (1, 3), (2, 3), (3, 3)]"
   ]
  },
  {
   "cell_type": "code",
   "execution_count": 5,
   "metadata": {},
   "outputs": [
    {
     "name": "stdout",
     "output_type": "stream",
     "text": [
      "['A', 'C', 'A', 'D', 'G', 'I', 'L', 'D']\n"
     ]
    }
   ],
   "source": [
    "str1= \"ACADGILD\"\n",
    "comp_list = [l for l in str1 if l !=\" \"]\n",
    "print(comp_list)"
   ]
  },
  {
   "cell_type": "code",
   "execution_count": 6,
   "metadata": {},
   "outputs": [
    {
     "name": "stdout",
     "output_type": "stream",
     "text": [
      "['x', 'xx', 'xxx', 'xxxx', 'y', 'yy', 'yyy', 'yyyy', 'z', 'zz', 'zzz', 'zzzz']\n"
     ]
    }
   ],
   "source": [
    "list1 =['x', 'y', 'z']\n",
    "result = [i*n for i in list1 for n in range(1,5)]\n",
    "print(result)"
   ]
  },
  {
   "cell_type": "code",
   "execution_count": 9,
   "metadata": {},
   "outputs": [
    {
     "name": "stdout",
     "output_type": "stream",
     "text": [
      "['x', 'y', 'z', 'xx', 'yy', 'zz', 'xxx', 'yyy', 'zzz', 'xxxx', 'yyyy', 'zzzz']\n"
     ]
    }
   ],
   "source": [
    "list2 = ['x','y','z']\n",
    "result2 = [ i*n for n in range (1,5) for i in list2 ]\n",
    "print(result2)"
   ]
  },
  {
   "cell_type": "code",
   "execution_count": 8,
   "metadata": {},
   "outputs": [
    {
     "name": "stdout",
     "output_type": "stream",
     "text": [
      "[[2], [3], [4], [3], [4], [5], [4], [5], [6]]\n"
     ]
    }
   ],
   "source": [
    "list3 = [2,3,4]\n",
    "result3 = [[i+n] for i in list3 for n in range(0,3)]\n",
    "print(result3)"
   ]
  },
  {
   "cell_type": "code",
   "execution_count": 9,
   "metadata": {},
   "outputs": [
    {
     "name": "stdout",
     "output_type": "stream",
     "text": [
      "[[2, 3, 4, 5], [3, 4, 5, 6], [4, 5, 6, 7], [5, 6, 7, 8]]\n"
     ]
    }
   ],
   "source": [
    "list4 =[2,3,4,5]\n",
    "result4 = [[i+n for i in list4] for n in range(0,4)]\n",
    "print(result4)"
   ]
  },
  {
   "cell_type": "code",
   "execution_count": 12,
   "metadata": {},
   "outputs": [
    {
     "name": "stdout",
     "output_type": "stream",
     "text": [
      "[(1, 1), (2, 1), (3, 1), (1, 2), (2, 2), (3, 2), (1, 3), (2, 3), (3, 3)]\n"
     ]
    }
   ],
   "source": [
    "num1 = [1,2,3]\n",
    "num2 = [1,2,3]\n",
    "num1_num2 = [(n2,n1) for n1 in num1 for n2 in num2]\n",
    "print(num1_num2)"
   ]
  },
  {
   "cell_type": "code",
   "execution_count": 4,
   "metadata": {},
   "outputs": [
    {
     "name": "stdout",
     "output_type": "stream",
     "text": [
      "Longest Word : ANACONDA\n"
     ]
    }
   ],
   "source": [
    "# 3. Implement a function longestWord() that takes a list of words and returns the longest one\n",
    "\n",
    "def longest_word(words_list):  \n",
    "    word_len = []  \n",
    "    for n in words_list:  \n",
    "        word_len.append((len(n), n))  \n",
    "    word_len.sort()  \n",
    "    return word_len[-1][1]  \n",
    "  \n",
    "print(\"Longest Word :\", longest_word([\"ANACONDA\", \"JUPYTER\", \"PYTHON\"]))"
   ]
  },
  {
   "cell_type": "code",
   "execution_count": 12,
   "metadata": {},
   "outputs": [],
   "source": [
    "#Task 2"
   ]
  },
  {
   "cell_type": "code",
   "execution_count": 17,
   "metadata": {},
   "outputs": [
    {
     "name": "stdout",
     "output_type": "stream",
     "text": [
      "Enter the value of a : 89\n",
      "Enter the value of b : 85\n",
      "Enter the value of c : 25\n",
      "Area the Triangle : 1062.3517249480042\n"
     ]
    }
   ],
   "source": [
    "# 1.1 Write a Python Program(with class concepts) to find the area of the triangle using the below formula.\n",
    "#     area = (s*(s-a)*(s-b)*(s-c)) ** 0.5\n",
    "#     Function to take the length of the sides of triangle from user should be defined in the parent\n",
    "#     class and function to calculate the area should be defined in subclass.\n",
    "\n",
    "class TriangleSd:\n",
    "    \n",
    "    def __init__(self):\n",
    "        self.a=float(input(\"Enter the value of a : \"))\n",
    "        self.b=float(input(\"Enter the value of b : \"))\n",
    "        self.c=float(input(\"Enter the value of c : \"))\n",
    "        \n",
    "class Triangle(TriangleSd):\n",
    "    \n",
    "    def __init__(self,*args,**kwargs):\n",
    "        super(Triangle,self). __init__(*args,**kwargs)\n",
    "    def area(self):\n",
    "        a=self.a\n",
    "        b=self.b\n",
    "        c=self.c\n",
    "        s=(a + b + c)/2\n",
    "        return ((s*(s-a)*(s-b)*(s-c))**0.5)\n",
    "        \n",
    "t = Triangle()\n",
    "print(\"Area the Triangle : {}\".format(t.area()))"
   ]
  },
  {
   "cell_type": "code",
   "execution_count": 21,
   "metadata": {},
   "outputs": [
    {
     "name": "stdout",
     "output_type": "stream",
     "text": [
      "Enter List of Words : C,PHP,Java,Python,R\n",
      "Enter an integer : 3\n",
      "['Java', 'Python']\n"
     ]
    }
   ],
   "source": [
    "# 1.2 Write a function filter_long_words() that takes a list of words and an integer n and returns the list\n",
    "#     of words that are longer than n.\n",
    "\n",
    "def filter_long_words(string, number):\n",
    "\n",
    "    new_list = []  \n",
    "    for i in range(len(string)):\n",
    "        if len(string[i]) > number:\n",
    "            new_list.append(string[i])\n",
    "    print (new_list)\n",
    "\n",
    "list1 = input(\"Enter List of Words : \")\n",
    "list = list1.split(\",\")\n",
    "\n",
    "def main():\n",
    "    global list, int_val\n",
    "    int_val = eval(input(\"Enter an integer : \"))\n",
    "    filter_long_words(list, int_val)\n",
    "\n",
    "main()"
   ]
  },
  {
   "cell_type": "code",
   "execution_count": 6,
   "metadata": {},
   "outputs": [
    {
     "name": "stdout",
     "output_type": "stream",
     "text": [
      "List of Words : ['Acadgild', 'Data', 'Science']\n",
      "Length of the words in the list : [8, 4, 7]\n"
     ]
    }
   ],
   "source": [
    "# 2.1 Write a Python program using function concept that maps list of words into a list of integers\n",
    "#     representing the lengths of the corresponding words .\n",
    "#     Hint: If a list [ ab,cde,erty] is passed on to the python function output should come as [2,3,4]\n",
    "#     Here 2,3 and 4 are the lengths of the words in the list.\n",
    "\n",
    "\n",
    "listOfWords = [\"Acadgild\", \"Data\", \"Science\"]\n",
    " \n",
    "listOfInts = []\n",
    " \n",
    "for i in range(len(listOfWords)):\n",
    "    listOfInts.append(len(listOfWords[i]))\n",
    "\n",
    "print(\"List of Words : \" +str(listOfWords))    \n",
    "print(\"Length of the words in the list : \" +str(listOfInts))"
   ]
  },
  {
   "cell_type": "code",
   "execution_count": 18,
   "metadata": {},
   "outputs": [
    {
     "name": "stdout",
     "output_type": "stream",
     "text": [
      "True\n",
      "True\n",
      "False\n",
      "True\n",
      "False\n"
     ]
    }
   ],
   "source": [
    "#2.2 Write a Python function which takes a character (i.e. a string of length 1) and returns True if it is\n",
    "#    a vowel, False otherwise.\n",
    "\n",
    "def is_vowel(char):\n",
    "    all_vowels = 'aeiouAEIOU'\n",
    "    return char in all_vowels\n",
    "\n",
    "print(is_vowel('e'))\n",
    "print(is_vowel('i'))\n",
    "print(is_vowel('l'))\n",
    "print(is_vowel('A'))\n",
    "print(is_vowel('d'))"
   ]
  }
 ],
 "metadata": {
  "kernelspec": {
   "display_name": "Python 3",
   "language": "python",
   "name": "python3"
  },
  "language_info": {
   "codemirror_mode": {
    "name": "ipython",
    "version": 3
   },
   "file_extension": ".py",
   "mimetype": "text/x-python",
   "name": "python",
   "nbconvert_exporter": "python",
   "pygments_lexer": "ipython3",
   "version": "3.7.0"
  }
 },
 "nbformat": 4,
 "nbformat_minor": 2
}
